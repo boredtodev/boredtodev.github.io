{
 "cells": [
  {
   "cell_type": "markdown",
   "id": "c4d5031b-6b42-4292-b363-f06887e093a3",
   "metadata": {},
   "source": [
    "# Foo"
   ]
  },
  {
   "cell_type": "code",
   "execution_count": 7,
   "id": "301bdeb6-04ea-4f02-902b-db0306208639",
   "metadata": {
    "editable": true,
    "slideshow": {
     "slide_type": ""
    },
    "tags": [
     "Tagz"
    ]
   },
   "outputs": [],
   "source": [
    "def foo():\n",
    "    print('foo!')"
   ]
  },
  {
   "cell_type": "code",
   "execution_count": 8,
   "id": "63804561-eaec-4b8e-a9a9-b8ee2458f194",
   "metadata": {},
   "outputs": [
    {
     "name": "stdout",
     "output_type": "stream",
     "text": [
      "foo!\n"
     ]
    }
   ],
   "source": [
    "foo()"
   ]
  },
  {
   "cell_type": "code",
   "execution_count": null,
   "id": "c715157f-54de-417c-a025-69728f1651c1",
   "metadata": {
    "editable": true,
    "slideshow": {
     "slide_type": ""
    },
    "tags": []
   },
   "outputs": [],
   "source": []
  }
 ],
 "metadata": {
  "kernelspec": {
   "display_name": "Python 3 (ipykernel)",
   "language": "python",
   "name": "python3"
  },
  "language_info": {
   "codemirror_mode": {
    "name": "ipython",
    "version": 3
   },
   "file_extension": ".py",
   "mimetype": "text/x-python",
   "name": "python",
   "nbconvert_exporter": "python",
   "pygments_lexer": "ipython3",
   "version": "3.11.3"
  }
 },
 "nbformat": 4,
 "nbformat_minor": 5
}
